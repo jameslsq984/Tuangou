{
 "cells": [
  {
   "cell_type": "markdown",
   "metadata": {},
   "source": [
    "# Tuango - RFM Analysis for Mobile App Push Messaging\n",
    "\n",
    "Prepare \"Tuango: RFM Analysis for Mobile App Push Messaging\" for class discussion and as an individual assignment and submit the assignment through GitLab. Detailed instructions are available in the tuango.pdf the document file in the assignment repo that will be forked to your GitLab projects page:\n",
    "\n",
    "https://rsm-gitlab.ucsd.edu/dashboard/projects\n",
    "\n",
    "The assignment is also available on Canvas. Please generate an HTML document with your answers to all the questions listed in the tuango.pdf file. When you have finished editing the Jupyter notebook and have generated the HTML report, make sure to save, commit, and push it to GitLab. Of course you can commit and push code as often as you like, but only before the due date. View the video linked below to refresh your memory on how to clone and push git repos with python code.\n",
    "\n",
    "[Using Git with Python Code](https://youtu.be/6mWc-FhQW5g)\n",
    "\n",
    "Add text motivating your work in Markdown format. Markdown is a simple formatting syntax for authoring HTML. For more details on using markdown go to http://commonmark.org/help/ for a 10-minute interactive Markdown tutorial\n",
    "\n",
    "We will collect your assignment from GitLab after the due date. Note that your python code must be fully \"reproducible\". That is, your Jupyter notebook must run without errors on my (or the TAs) computer and on the MSBA server. There is nothing that you need to submit to Canvas.\n",
    "\n",
    "This is an individual assignment. As a reminder, it is an honor code violation to share any assignment or exam solution from this class with another student in a current class or a future class generation. It is also an honor code violation to obtain assignments or exams from a student in another current class or a past class generation for use as an aid in solving problems to be turned in and  graded. Please respect the honor code as it helps to maintain parity in the classroom.\n",
    "\n",
    "Note: GitLab will automatically tests if your work is fully reproducible each time to \"push\" changes (see .gitlab-ci.yml for the configuration). If you get an email from GitLab stating that there was an error, it suggests a problem in your code. Note that the setup for this assignment will *not* test if your analysis is correct. Only if the code is valid and runs without issue in the docker container.\n",
    "\n",
    "## Setup\n",
    "\n",
    "Please complete this python notebook by answering the questions 1-14 in `tuango.pdf`.  The code blocks below will load a few python modules you will need and also the data you will need for this first notebook. \n",
    "\n",
    "Hint: Make sure to use the `xtile` function from the pyrsm package to create all RFM \"bins\""
   ]
  },
  {
   "cell_type": "code",
   "execution_count": 1,
   "metadata": {},
   "outputs": [],
   "source": [
    "import numpy as np\n",
    "import pandas as pd\n",
    "import pyrsm as rsm\n",
    "import seaborn as sns\n",
    "import matplotlib.pyplot as plt\n",
    "\n",
    "# you can import additional python packages but only use packages that\n",
    "# are already part of the docker container"
   ]
  },
  {
   "cell_type": "code",
   "execution_count": 2,
   "metadata": {},
   "outputs": [],
   "source": [
    "## Use this dataset and notebook to answer questions 1-13\n",
    "tuango = pd.read_pickle(\"data/tuango_pre.pkl\")"
   ]
  },
  {
   "cell_type": "markdown",
   "metadata": {},
   "source": [
    "## Part I:  Preliminary and Quintile Analysis (Q1 to Q6, 3 points each)\n",
    "\n",
    "### 1. What percentage of customers responded (i.e., bought anything) after the push message?"
   ]
  },
  {
   "cell_type": "code",
   "execution_count": 3,
   "metadata": {},
   "outputs": [
    {
     "name": "stdout",
     "output_type": "stream",
     "text": [
      "2.98%\n"
     ]
    }
   ],
   "source": [
    "# insert calculation code here\n",
    "# the result should be expressed as a percentage as a string with 2 decimal \n",
    "# places and assigned to q1 (e.g., q1 = '5.43%')\n",
    "\n",
    "q1 = len(tuango[tuango['buyer'] == 'yes'])/27878\n",
    "print (\"{:.2%}\".format(q1))"
   ]
  },
  {
   "cell_type": "markdown",
   "metadata": {},
   "source": [
    "#### 2.98% of the customers responded after the push message."
   ]
  },
  {
   "cell_type": "markdown",
   "metadata": {},
   "source": [
    "\n",
    "### 2. What was the average amount spent on the Karaoke deal by customers that bought one (or more)? Use the `ordersize` variable for your calculation"
   ]
  },
  {
   "cell_type": "code",
   "execution_count": 4,
   "metadata": {},
   "outputs": [
    {
     "data": {
      "text/html": [
       "<div>\n",
       "<style scoped>\n",
       "    .dataframe tbody tr th:only-of-type {\n",
       "        vertical-align: middle;\n",
       "    }\n",
       "\n",
       "    .dataframe tbody tr th {\n",
       "        vertical-align: top;\n",
       "    }\n",
       "\n",
       "    .dataframe thead tr th {\n",
       "        text-align: left;\n",
       "    }\n",
       "\n",
       "    .dataframe thead tr:last-of-type th {\n",
       "        text-align: right;\n",
       "    }\n",
       "</style>\n",
       "<table border=\"1\" class=\"dataframe\">\n",
       "  <thead>\n",
       "    <tr>\n",
       "      <th></th>\n",
       "      <th>mean</th>\n",
       "      <th>std</th>\n",
       "    </tr>\n",
       "    <tr>\n",
       "      <th></th>\n",
       "      <th>ordersize</th>\n",
       "      <th>ordersize</th>\n",
       "    </tr>\n",
       "    <tr>\n",
       "      <th>buyer</th>\n",
       "      <th></th>\n",
       "      <th></th>\n",
       "    </tr>\n",
       "  </thead>\n",
       "  <tbody>\n",
       "    <tr>\n",
       "      <th>yes</th>\n",
       "      <td>202.128761</td>\n",
       "      <td>40.48003</td>\n",
       "    </tr>\n",
       "    <tr>\n",
       "      <th>no</th>\n",
       "      <td>0.000000</td>\n",
       "      <td>0.00000</td>\n",
       "    </tr>\n",
       "  </tbody>\n",
       "</table>\n",
       "</div>"
      ],
      "text/plain": [
       "             mean       std\n",
       "        ordersize ordersize\n",
       "buyer                      \n",
       "yes    202.128761  40.48003\n",
       "no       0.000000   0.00000"
      ]
     },
     "execution_count": 4,
     "metadata": {},
     "output_type": "execute_result"
    }
   ],
   "source": [
    "# insert calculation code here to create a pd.pivot_table that shows\n",
    "# (1) counts the number of yes and no, (2) the mean ordersize, and \n",
    "# (3) the standard deviation in ordersize for yes and no responses\n",
    "q2 = pd.pivot_table(tuango, index=['buyer'],values=['ordersize'], aggfunc=[np.mean,np.std])\n",
    "\n",
    "# the below should show your result\n",
    "q2.loc[\"yes\", \"mean\"]\n",
    "\n",
    "q2"
   ]
  },
  {
   "cell_type": "markdown",
   "metadata": {},
   "source": [
    "#### The average amount spend on the Karaoke deal by customers that bought one (or more) is 202.13 dollars."
   ]
  },
  {
   "cell_type": "markdown",
   "metadata": {},
   "source": [
    "### 3.\tCreate independent quintile variables for recency, frequency and monetary"
   ]
  },
  {
   "cell_type": "code",
   "execution_count": 5,
   "metadata": {},
   "outputs": [
    {
     "data": {
      "text/html": [
       "<div>\n",
       "<style scoped>\n",
       "    .dataframe tbody tr th:only-of-type {\n",
       "        vertical-align: middle;\n",
       "    }\n",
       "\n",
       "    .dataframe tbody tr th {\n",
       "        vertical-align: top;\n",
       "    }\n",
       "\n",
       "    .dataframe thead th {\n",
       "        text-align: right;\n",
       "    }\n",
       "</style>\n",
       "<table border=\"1\" class=\"dataframe\">\n",
       "  <thead>\n",
       "    <tr style=\"text-align: right;\">\n",
       "      <th></th>\n",
       "      <th>userid</th>\n",
       "      <th>recency</th>\n",
       "      <th>frequency</th>\n",
       "      <th>monetary</th>\n",
       "      <th>rfm_iq_pre</th>\n",
       "      <th>buyer</th>\n",
       "      <th>ordersize</th>\n",
       "      <th>platform</th>\n",
       "      <th>category</th>\n",
       "      <th>mobile_os</th>\n",
       "      <th>training</th>\n",
       "      <th>rec_iq</th>\n",
       "      <th>freq_iq</th>\n",
       "      <th>mon_iq</th>\n",
       "    </tr>\n",
       "  </thead>\n",
       "  <tbody>\n",
       "    <tr>\n",
       "      <th>0</th>\n",
       "      <td>U12617430</td>\n",
       "      <td>309</td>\n",
       "      <td>7</td>\n",
       "      <td>39.80</td>\n",
       "      <td>514</td>\n",
       "      <td>no</td>\n",
       "      <td>0.0</td>\n",
       "      <td>App</td>\n",
       "      <td>3</td>\n",
       "      <td>android</td>\n",
       "      <td>1</td>\n",
       "      <td>5</td>\n",
       "      <td>1</td>\n",
       "      <td>4</td>\n",
       "    </tr>\n",
       "    <tr>\n",
       "      <th>1</th>\n",
       "      <td>U63302737</td>\n",
       "      <td>297</td>\n",
       "      <td>8</td>\n",
       "      <td>39.80</td>\n",
       "      <td>514</td>\n",
       "      <td>no</td>\n",
       "      <td>0.0</td>\n",
       "      <td>Browser</td>\n",
       "      <td>3</td>\n",
       "      <td>android</td>\n",
       "      <td>1</td>\n",
       "      <td>5</td>\n",
       "      <td>1</td>\n",
       "      <td>4</td>\n",
       "    </tr>\n",
       "    <tr>\n",
       "      <th>2</th>\n",
       "      <td>U77095928</td>\n",
       "      <td>295</td>\n",
       "      <td>1</td>\n",
       "      <td>72.90</td>\n",
       "      <td>553</td>\n",
       "      <td>no</td>\n",
       "      <td>0.0</td>\n",
       "      <td>Browser</td>\n",
       "      <td>3</td>\n",
       "      <td>android</td>\n",
       "      <td>1</td>\n",
       "      <td>5</td>\n",
       "      <td>5</td>\n",
       "      <td>3</td>\n",
       "    </tr>\n",
       "    <tr>\n",
       "      <th>3</th>\n",
       "      <td>U43509181</td>\n",
       "      <td>277</td>\n",
       "      <td>1</td>\n",
       "      <td>40.00</td>\n",
       "      <td>554</td>\n",
       "      <td>no</td>\n",
       "      <td>0.0</td>\n",
       "      <td>Browser</td>\n",
       "      <td>3</td>\n",
       "      <td>android</td>\n",
       "      <td>1</td>\n",
       "      <td>5</td>\n",
       "      <td>5</td>\n",
       "      <td>4</td>\n",
       "    </tr>\n",
       "    <tr>\n",
       "      <th>4</th>\n",
       "      <td>U23195941</td>\n",
       "      <td>259</td>\n",
       "      <td>1</td>\n",
       "      <td>21.00</td>\n",
       "      <td>555</td>\n",
       "      <td>no</td>\n",
       "      <td>0.0</td>\n",
       "      <td>App</td>\n",
       "      <td>3</td>\n",
       "      <td>android</td>\n",
       "      <td>1</td>\n",
       "      <td>5</td>\n",
       "      <td>5</td>\n",
       "      <td>5</td>\n",
       "    </tr>\n",
       "    <tr>\n",
       "      <th>...</th>\n",
       "      <td>...</td>\n",
       "      <td>...</td>\n",
       "      <td>...</td>\n",
       "      <td>...</td>\n",
       "      <td>...</td>\n",
       "      <td>...</td>\n",
       "      <td>...</td>\n",
       "      <td>...</td>\n",
       "      <td>...</td>\n",
       "      <td>...</td>\n",
       "      <td>...</td>\n",
       "      <td>...</td>\n",
       "      <td>...</td>\n",
       "      <td>...</td>\n",
       "    </tr>\n",
       "    <tr>\n",
       "      <th>278775</th>\n",
       "      <td>U14081166</td>\n",
       "      <td>329</td>\n",
       "      <td>12</td>\n",
       "      <td>8.16</td>\n",
       "      <td>515</td>\n",
       "      <td>NaN</td>\n",
       "      <td>NaN</td>\n",
       "      <td>App</td>\n",
       "      <td>9</td>\n",
       "      <td>android</td>\n",
       "      <td>0</td>\n",
       "      <td>5</td>\n",
       "      <td>1</td>\n",
       "      <td>5</td>\n",
       "    </tr>\n",
       "    <tr>\n",
       "      <th>278776</th>\n",
       "      <td>U44222234</td>\n",
       "      <td>14</td>\n",
       "      <td>4</td>\n",
       "      <td>314.67</td>\n",
       "      <td>231</td>\n",
       "      <td>NaN</td>\n",
       "      <td>NaN</td>\n",
       "      <td>App</td>\n",
       "      <td>9</td>\n",
       "      <td>android</td>\n",
       "      <td>0</td>\n",
       "      <td>2</td>\n",
       "      <td>3</td>\n",
       "      <td>1</td>\n",
       "    </tr>\n",
       "    <tr>\n",
       "      <th>278777</th>\n",
       "      <td>U27441294</td>\n",
       "      <td>58</td>\n",
       "      <td>7</td>\n",
       "      <td>22.57</td>\n",
       "      <td>415</td>\n",
       "      <td>NaN</td>\n",
       "      <td>NaN</td>\n",
       "      <td>App</td>\n",
       "      <td>9</td>\n",
       "      <td>android</td>\n",
       "      <td>0</td>\n",
       "      <td>4</td>\n",
       "      <td>1</td>\n",
       "      <td>5</td>\n",
       "    </tr>\n",
       "    <tr>\n",
       "      <th>278778</th>\n",
       "      <td>U50898226</td>\n",
       "      <td>20</td>\n",
       "      <td>5</td>\n",
       "      <td>33.00</td>\n",
       "      <td>324</td>\n",
       "      <td>NaN</td>\n",
       "      <td>NaN</td>\n",
       "      <td>App</td>\n",
       "      <td>9</td>\n",
       "      <td>android</td>\n",
       "      <td>0</td>\n",
       "      <td>3</td>\n",
       "      <td>2</td>\n",
       "      <td>4</td>\n",
       "    </tr>\n",
       "    <tr>\n",
       "      <th>278779</th>\n",
       "      <td>U84790963</td>\n",
       "      <td>45</td>\n",
       "      <td>1</td>\n",
       "      <td>6.80</td>\n",
       "      <td>455</td>\n",
       "      <td>NaN</td>\n",
       "      <td>NaN</td>\n",
       "      <td>App</td>\n",
       "      <td>9</td>\n",
       "      <td>android</td>\n",
       "      <td>0</td>\n",
       "      <td>4</td>\n",
       "      <td>5</td>\n",
       "      <td>5</td>\n",
       "    </tr>\n",
       "  </tbody>\n",
       "</table>\n",
       "<p>278780 rows × 14 columns</p>\n",
       "</div>"
      ],
      "text/plain": [
       "           userid  recency  frequency  monetary rfm_iq_pre buyer  ordersize  \\\n",
       "0       U12617430      309          7     39.80        514    no        0.0   \n",
       "1       U63302737      297          8     39.80        514    no        0.0   \n",
       "2       U77095928      295          1     72.90        553    no        0.0   \n",
       "3       U43509181      277          1     40.00        554    no        0.0   \n",
       "4       U23195941      259          1     21.00        555    no        0.0   \n",
       "...           ...      ...        ...       ...        ...   ...        ...   \n",
       "278775  U14081166      329         12      8.16        515   NaN        NaN   \n",
       "278776  U44222234       14          4    314.67        231   NaN        NaN   \n",
       "278777  U27441294       58          7     22.57        415   NaN        NaN   \n",
       "278778  U50898226       20          5     33.00        324   NaN        NaN   \n",
       "278779  U84790963       45          1      6.80        455   NaN        NaN   \n",
       "\n",
       "       platform  category mobile_os  training rec_iq freq_iq mon_iq  \n",
       "0           App         3   android         1      5       1      4  \n",
       "1       Browser         3   android         1      5       1      4  \n",
       "2       Browser         3   android         1      5       5      3  \n",
       "3       Browser         3   android         1      5       5      4  \n",
       "4           App         3   android         1      5       5      5  \n",
       "...         ...       ...       ...       ...    ...     ...    ...  \n",
       "278775      App         9   android         0      5       1      5  \n",
       "278776      App         9   android         0      2       3      1  \n",
       "278777      App         9   android         0      4       1      5  \n",
       "278778      App         9   android         0      3       2      4  \n",
       "278779      App         9   android         0      4       5      5  \n",
       "\n",
       "[278780 rows x 14 columns]"
      ]
     },
     "execution_count": 5,
     "metadata": {},
     "output_type": "execute_result"
    }
   ],
   "source": [
    "# insert calculation code to add columns `rec_iq`, `freq_iq`, and `mon_iq`\n",
    "# to the `tuango` DataFrame\n",
    "# Hint: You can also use the 'assign' method for DataFrames to add multiple\n",
    "# varialbes in one step\n",
    "tuango[\"rec_iq\"] = tuango[\"rfm_iq_pre\"].apply(lambda x: x[0])\n",
    "tuango[\"freq_iq\"] = tuango[\"rfm_iq_pre\"].apply(lambda x: x[1])\n",
    "tuango[\"mon_iq\"] = tuango[\"rfm_iq_pre\"].apply(lambda x: x[2])\n",
    "tuango\n"
   ]
  },
  {
   "cell_type": "markdown",
   "metadata": {},
   "source": [
    "### 4.\tCreate bar charts showing the response rate (i.e., the proportion of customers who bought something) for this deal per (independent) recency, frequency, and monetary quintile (i.e., 3 plots)\n",
    "\n",
    "> Note: Ensure the 1st quantile contains the best customers for each variable you create"
   ]
  },
  {
   "cell_type": "code",
   "execution_count": 6,
   "metadata": {},
   "outputs": [
    {
     "data": {
      "image/png": "[encoded data removed]",
      "text/plain": [
       "<Figure size 432x288 with 1 Axes>"
      ]
     },
     "metadata": {
      "needs_background": "light"
     },
     "output_type": "display_data"
    }
   ],
   "source": [
    "# insert code here\n",
    "#rec\n",
    "fig = rsm.prop_plot(tuango, \"rec_iq\", \"buyer\", \"yes\")\n",
    "fig = fig.set(xlabel=\"Frequency quintiles (rec_iq)\")"
   ]
  },
  {
   "cell_type": "code",
   "execution_count": 7,
   "metadata": {},
   "outputs": [
    {
     "data": {
      "image/png": "[encoded data removed]",
      "text/plain": [
       "<Figure size 432x288 with 1 Axes>"
      ]
     },
     "metadata": {
      "needs_background": "light"
     },
     "output_type": "display_data"
    }
   ],
   "source": [
    "#freq\n",
    "fig = rsm.prop_plot(tuango, \"freq_iq\", \"buyer\", \"yes\")\n",
    "fig = fig.set(xlabel=\"Frequency quintiles (freq_iq)\")"
   ]
  },
  {
   "cell_type": "code",
   "execution_count": 8,
   "metadata": {},
   "outputs": [
    {
     "data": {
      "image/png": "[encoded data removed]",
      "text/plain": [
       "<Figure size 432x288 with 1 Axes>"
      ]
     },
     "metadata": {
      "needs_background": "light"
     },
     "output_type": "display_data"
    }
   ],
   "source": [
    "#monetary\n",
    "fig = rsm.prop_plot(tuango, \"mon_iq\", \"buyer\", \"yes\")\n",
    "fig = fig.set(xlabel=\"Frequency quintiles (mon_iq)\")"
   ]
  },
  {
   "cell_type": "markdown",
   "metadata": {},
   "source": [
    "### 5.\tCreate bar charts showing the average amount spent (in RMB) (i.e., ordersize) per independent recency, frequency, and monetary quintile using only those customers who placed an order after the push message (i.e., 3 plots)\n",
    "\n"
   ]
  },
  {
   "cell_type": "code",
   "execution_count": 9,
   "metadata": {},
   "outputs": [
    {
     "data": {
      "text/plain": [
       "<AxesSubplot:xlabel='rec_iq'>"
      ]
     },
     "execution_count": 9,
     "metadata": {},
     "output_type": "execute_result"
    },
    {
     "data": {
      "image/png": "[encoded data removed]",
      "text/plain": [
       "<Figure size 432x288 with 1 Axes>"
      ]
     },
     "metadata": {
      "needs_background": "light"
     },
     "output_type": "display_data"
    }
   ],
   "source": [
    "# insert code here\n",
    "#rec\n",
    "tuango[tuango['buyer'] == 'yes'].groupby('rec_iq').mean().reset_index().plot.bar(x = 'rec_iq', y = 'ordersize')"
   ]
  },
  {
   "cell_type": "code",
   "execution_count": 10,
   "metadata": {},
   "outputs": [
    {
     "data": {
      "text/plain": [
       "<AxesSubplot:xlabel='freq_iq'>"
      ]
     },
     "execution_count": 10,
     "metadata": {},
     "output_type": "execute_result"
    },
    {
     "data": {
      "image/png": "[encoded data removed]",
      "text/plain": [
       "<Figure size 432x288 with 1 Axes>"
      ]
     },
     "metadata": {
      "needs_background": "light"
     },
     "output_type": "display_data"
    }
   ],
   "source": [
    "#freq\n",
    "tuango[tuango['buyer'] == 'yes'].groupby('freq_iq').mean().reset_index().plot.bar(x = 'freq_iq', y = 'ordersize')"
   ]
  },
  {
   "cell_type": "code",
   "execution_count": 11,
   "metadata": {},
   "outputs": [
    {
     "data": {
      "text/plain": [
       "<AxesSubplot:xlabel='mon_iq'>"
      ]
     },
     "execution_count": 11,
     "metadata": {},
     "output_type": "execute_result"
    },
    {
     "data": {
      "image/png": "[encoded data removed]",
      "text/plain": [
       "<Figure size 432x288 with 1 Axes>"
      ]
     },
     "metadata": {
      "needs_background": "light"
     },
     "output_type": "display_data"
    }
   ],
   "source": [
    "#monetary\n",
    "tuango[tuango['buyer'] == 'yes'].groupby('mon_iq').mean().reset_index().plot.bar(x = 'mon_iq', y = 'ordersize')"
   ]
  },
  {
   "cell_type": "markdown",
   "metadata": {},
   "source": [
    "### 6.\tWhat do the above bar charts reveal about the likelihood of response and the size of the order across the different recency, frequency, and monetary quintiles?"
   ]
  },
  {
   "cell_type": "markdown",
   "metadata": {},
   "source": [
    "#### The bar charts indicate that in terms of response rate, quintile 1 and 2 are much responsive than the others. However, in terms of the order size, the responded customers do not vary much."
   ]
  },
  {
   "cell_type": "markdown",
   "metadata": {},
   "source": [
    "## Part II: Profitability Analysis (Q7, 2 points; Q8 to Q13, 6 points each, Q14, 10 points)\n"
   ]
  },
  {
   "cell_type": "markdown",
   "metadata": {},
   "source": [
    "### 7. What is the breakeven response rate?"
   ]
  },
  {
   "cell_type": "code",
   "execution_count": 12,
   "metadata": {},
   "outputs": [
    {
     "data": {
      "text/plain": [
       "2.473670736862159"
      ]
     },
     "execution_count": 12,
     "metadata": {},
     "output_type": "execute_result"
    }
   ],
   "source": [
    "# state your assumptions relevant to calculate the breakeven response rate\n",
    "# breakeven should be of type `float`\n",
    "\n",
    "cost = 2.5 # float, length 1\n",
    "margin = float(q2.loc[\"yes\", \"mean\"] * 0.5 ) # float, length 1\n",
    "breakeven = float(cost/ margin)  # float, length 1\n",
    "q7 = float(breakeven * 100 )\n",
    "#breakeven\n",
    "q7"
   ]
  },
  {
   "cell_type": "markdown",
   "metadata": {},
   "source": [
    "#### The breakeven response rate is 2.47%"
   ]
  },
  {
   "cell_type": "markdown",
   "metadata": {},
   "source": [
    "### 8. What is the projected profit in RMB and the return on marketing expenditures if you offer the deal to all 250,902 remaining customers?"
   ]
  },
  {
   "cell_type": "code",
   "execution_count": 13,
   "metadata": {},
   "outputs": [
    {
     "name": "stdout",
     "output_type": "stream",
     "text": [
      "128605.5\n",
      "20.50%\n"
     ]
    }
   ],
   "source": [
    "# insert calculation code here\n",
    "# all variables should be numeric (integer or float) and of length 1\n",
    "# _nt stands for 'no targeting'\n",
    "\n",
    "nr_sms_nt = 250902 # total number of SMSs that would be sent out\n",
    "sms_cost_nt = nr_sms_nt * cost# total cost in RMB (no rounding)\n",
    "nr_responses_nt = nr_sms_nt * q1 # total number of positive responses\n",
    "response_rate_nt = q1 # expressed as a proportion (no rounding)\n",
    "revenue_nt = nr_responses_nt * margin # total revenue in RMB (no rounding)\n",
    "profit_nt = revenue_nt - sms_cost_nt # total profit in RMB (no rounding)\n",
    "ROME_nt = profit_nt/(sms_cost_nt) # Return on Marketing Expenditures expressed as a proportion (no rounding)\n",
    "\n",
    "print(profit_nt)\n",
    "print (\"{:.2%}\".format(ROME_nt))"
   ]
  },
  {
   "cell_type": "markdown",
   "metadata": {},
   "source": [
    "#### the projected profit in RMB is 128605.5, and the return on marketing expenditures is 20.50% if we offer the deal to all 250,902 remaining customers."
   ]
  },
  {
   "cell_type": "markdown",
   "metadata": {},
   "source": [
    "### 9. Evaluate the performance implications of offering the deal to only those customers (out of 250,902) in RFM cells with a response rate greater than the breakeven response rate\n",
    "\n",
    "Generate your result based on both sequential and independent RFM. Determine the projected profit in RMB and the return on marketing expenditures for each approach"
   ]
  },
  {
   "cell_type": "code",
   "execution_count": 14,
   "metadata": {},
   "outputs": [],
   "source": [
    "# add `rfm_iq` to the tuango dataset\n",
    "tuango = tuango.assign(rec_iq=rsm.xtile(tuango.recency, 5))\n",
    "tuango = tuango.assign(freq_iq=rsm.xtile(tuango.frequency, 5, rev=True))\n",
    "tuango = tuango.assign(mon_iq=rsm.xtile(tuango.monetary, 5, rev=True))\n",
    "tuango[\"rfm_iq\"] = tuango[\"rec_iq\"].astype(str) + tuango[\"freq_iq\"].astype(str) + tuango[\"mon_iq\"].astype(str)\n"
   ]
  },
  {
   "cell_type": "code",
   "execution_count": 15,
   "metadata": {},
   "outputs": [],
   "source": [
    "# determine which customers to sms based on independent quintiles RFM\n",
    "def mailto(x, lev = 'yes', breakeven = 0):\n",
    "    return (np.sum(x == lev) / np.sum((x == \"yes\") | (x == \"no\"))) > breakeven\n",
    "\n",
    "#breakeven = 0.02473670736862159\n",
    "tuango[\"smsto_iq\"] = tuango.groupby(\"rfm_iq\").buyer.transform(mailto, breakeven = breakeven)"
   ]
  },
  {
   "cell_type": "code",
   "execution_count": 16,
   "metadata": {},
   "outputs": [],
   "source": [
    "# insert calculation code to add columns `freq_sq`, and `mon_sq`\n",
    "# to the `tuango` DataFrame\n",
    "# Note that pandas `assign` method doesn't allow you to use variables created in the same call to assign\n",
    "\n",
    "tuango = tuango.assign(freq_sq = tuango.groupby('rec_iq').frequency.transform(rsm.xtile, 5, rev = True))\n",
    "tuango = tuango.assign(mon_sq = tuango.groupby([\"rec_iq\",\"freq_sq\"]).monetary.transform(rsm.xtile, 5, rev = True))\n",
    "#tuango[\"freq_sq\"] =\n",
    "#tuango[\"mon_sq\"] ="
   ]
  },
  {
   "cell_type": "code",
   "execution_count": 17,
   "metadata": {},
   "outputs": [],
   "source": [
    "# add `rfm_sq` to the tuango dataset\n",
    "#tuango[\"rfm_sq\"] =\n",
    "tuango = tuango.assign(rfm_sq = tuango.rec_iq.astype(str) + tuango.freq_sq.astype(str) + tuango.mon_sq.astype(str))"
   ]
  },
  {
   "cell_type": "code",
   "execution_count": 18,
   "metadata": {},
   "outputs": [],
   "source": [
    "# determine which customers to sms based on sequential quintiles RFM\n",
    "#breakeven = 0.02473670736862159\n",
    "tuango[\"smsto_sq\"] = tuango.groupby(\"rfm_sq\").buyer.transform(mailto, breakeven = breakeven)"
   ]
  },
  {
   "cell_type": "code",
   "execution_count": 19,
   "metadata": {},
   "outputs": [
    {
     "data": {
      "text/plain": [
       "(111656,\n",
       " 279140.0,\n",
       " 6042.263810597519,\n",
       " 0.05411499436302142,\n",
       " 610657.6474141123,\n",
       " 1.1876393473314908,\n",
       " 331517.64741411235)"
      ]
     },
     "execution_count": 19,
     "metadata": {},
     "output_type": "execute_result"
    }
   ],
   "source": [
    "# write your perf_calc function here (see the tuango.pdf document for suggestions)\n",
    "def perf_calc(dat=tuango, smsto=None, intro=\"\", perf=\"buyer\", lev=\"yes\"):\n",
    "    \"\"\"\n",
    "    Calculate projected performance implications from using different \n",
    "    targeting strategies\n",
    "\n",
    "    Parameters\n",
    "    ----------\n",
    "    dat : Pandas DataFrame\n",
    "        Pass the tuango dataset as the default value\n",
    "    smsto : str\n",
    "        A string with the name of the 'smsto' variable to use for calculations\n",
    "    intro : str\n",
    "        A string that provides an introduction to the printed output\n",
    "    perf: str\n",
    "        A string with the name of the performance variable to use ('buyer')\n",
    "    lev: str\n",
    "        A string with the name of the level in the perf variable that signifies success ('yes')\n",
    "\n",
    "    Returns\n",
    "    -------\n",
    "    nr_sms : Total number of SMSs that would be sent out\n",
    "    sms_cost : Total revenue in RMB (no rounding)\n",
    "    nr_responses : Total number of positive responses\n",
    "    response_rate : Expressed as a proportion (no rounding)\n",
    "    revenue : Total revenue in RMB (no rounding)\n",
    "    ROME : Return on Marketing Expenditures expressed as a proportion (no rounding)\n",
    "    profit : Total profit in RMB (no rounding)\n",
    "    \"\"\"\n",
    "    if smsto == None:\n",
    "        nr_sms = dat[dat[\"training\"] == 0].training.size\n",
    "        nr_responses_train = dat[(dat['training'] == 1) & (dat[perf] == lev)].training.size\n",
    "        total_res = dat[(dat['training'] == 1)].training.size\n",
    "        response_rate = nr_responses_train / total_res\n",
    "        nr_responses = nr_sms * response_rate\n",
    "        \n",
    "    else:\n",
    "        nr_sms = dat[(dat[\"training\"] == 0)  & (dat[smsto] == True)].training.size\n",
    "        nr_responses_train = dat[(dat[\"training\"] == 1)  & (dat[smsto] == True) & (dat[perf] == lev)].training.size\n",
    "        total_res = dat[(dat['training'] == 1) & (dat[smsto] == True)].training.size\n",
    "        response_rate = nr_responses_train / total_res\n",
    "        nr_responses = nr_sms * response_rate\n",
    "        \n",
    "        \n",
    "    sms_cost = cost * nr_sms # total cost in RMB (no rounding) \n",
    "    revenue = nr_sms * response_rate * margin\n",
    "    profit = revenue - sms_cost\n",
    "    ROME = profit / sms_cost   \n",
    "    response_rate = response_rate \n",
    "    \n",
    "    return nr_sms, sms_cost, nr_responses, response_rate, revenue, ROME, profit\n",
    "\n",
    "perf_calc(intro=\"If Tuango does not apply targeting\", smsto = \"smsto_iq\")"
   ]
  },
  {
   "cell_type": "code",
   "execution_count": 20,
   "metadata": {},
   "outputs": [
    {
     "data": {
      "text/plain": [
       "(101321,\n",
       " 253302.5,\n",
       " 5837.165575221239,\n",
       " 0.05761061946902655,\n",
       " 589929.5213624166,\n",
       " 1.3289526213220026,\n",
       " 336627.02136241656)"
      ]
     },
     "execution_count": 20,
     "metadata": {},
     "output_type": "execute_result"
    }
   ],
   "source": [
    "perf_calc(intro=\"If Tuango does not apply targeting\", smsto = \"smsto_sq\")"
   ]
  },
  {
   "cell_type": "code",
   "execution_count": 21,
   "metadata": {},
   "outputs": [],
   "source": [
    "# re-calculate performance for the no-targeting approach - should give same results as above\n",
    "# note that your perf_calc function should return values for each of the variables\n",
    "# listed below\n",
    "# all variables should be numeric (integer or float) and of length 1\n",
    "# _nt stands for 'no targeting'\n",
    "nr_sms_nt, sms_cost_nt, nr_responses_nt, response_rate_nt, revenue_nt, ROME_nt, profit_nt = perf_calc(intro=\"If Tuango does not apply targeting\")"
   ]
  },
  {
   "cell_type": "code",
   "execution_count": 22,
   "metadata": {},
   "outputs": [],
   "source": [
    "# calculate performance for independent RFM\n",
    "# note that your perf_calc function should return values for each of the variables\n",
    "# listed below\n",
    "# all variables should be numeric (integer or float) and of length 1\n",
    "# _iq stands for 'independent quintiles'\n",
    "\n",
    "nr_sms_iq, sms_cost_iq, nr_responses_iq, response_rate_iq, revenue_iq, ROME_iq, profit_iq = perf_calc(smsto = \"smsto_iq\", intro=\"If Tuango does not apply targeting\")"
   ]
  },
  {
   "cell_type": "code",
   "execution_count": 23,
   "metadata": {},
   "outputs": [],
   "source": [
    "# calculate performance for sequential RFM\n",
    "# note that your perf_calc function should return values for each of the variables\n",
    "# listed below\n",
    "# all variables should be numeric (integer or float) and of length 1\n",
    "# _sq stands for 'sequential quintiles'\n",
    "\n",
    "nr_sms_sq, sms_cost_sq, nr_responses_sq, response_rate_sq, revenue_sq, ROME_sq, profit_sq = perf_calc(smsto = \"smsto_sq\", intro=\"If Tuango does not apply targeting\")"
   ]
  },
  {
   "cell_type": "markdown",
   "metadata": {},
   "source": [
    "### 10.\tWhat do you notice when you compare the `rfm_iq` and `rfm_sq` variables? Do the two approaches generally yield the same RFM index for any given customer? What do you see as the pros and cons of the two approaches (from a statistical as well as logical perspective) and why?"
   ]
  },
  {
   "cell_type": "code",
   "execution_count": 24,
   "metadata": {},
   "outputs": [
    {
     "data": {
      "image/png": "[encoded data removed]",
      "text/plain": [
       "<Figure size 1800x1080 with 1 Axes>"
      ]
     },
     "metadata": {},
     "output_type": "display_data"
    }
   ],
   "source": [
    "# insert any calculation or plotting code here\n",
    "sns.set(rc = {'figure.figsize':(25,15)})\n",
    "fig_iq = rsm.prop_plot(tuango, \"rfm_iq\", \"buyer\", \"yes\")\n",
    "fig_iq.tick_params(axis='x', rotation=90)"
   ]
  },
  {
   "cell_type": "code",
   "execution_count": 25,
   "metadata": {},
   "outputs": [
    {
     "data": {
      "image/png": "[encoded data removed]",
      "text/plain": [
       "<Figure size 1800x1080 with 1 Axes>"
      ]
     },
     "metadata": {},
     "output_type": "display_data"
    }
   ],
   "source": [
    "fig_sq = rsm.prop_plot(tuango, \"rfm_sq\", \"buyer\", \"yes\")\n",
    "fig_sq.tick_params(axis='x', rotation=90)"
   ]
  },
  {
   "cell_type": "code",
   "execution_count": 26,
   "metadata": {},
   "outputs": [
    {
     "name": "stdout",
     "output_type": "stream",
     "text": [
      "Among 250902 testing customers, independent quintile approach suggests a 44.5% sms push rate, while the sequential quintile approach suggests a 40.38% sms push rate\n"
     ]
    }
   ],
   "source": [
    "#send sms\n",
    "test_n = len(tuango[(tuango['training'] == 0)])\n",
    "sms_rate_iq = nr_sms_iq / test_n\n",
    "sms_rate_iq\n",
    "sms_rate_sq = nr_sms_sq / test_n\n",
    "sms_rate_sq\n",
    "\n",
    "print('Among', test_n, 'testing customers, independent quintile approach suggests a', str(round(sms_rate_iq, 4)*100)+'%', \"sms push rate, while the sequential quintile approach suggests a\", str(round(sms_rate_sq, 4)*100)+'%', \"sms push rate\" )\n",
    "\n"
   ]
  },
  {
   "cell_type": "code",
   "execution_count": 27,
   "metadata": {},
   "outputs": [
    {
     "name": "stdout",
     "output_type": "stream",
     "text": [
      "False\n",
      "False\n",
      "False\n",
      "The suquential rate approach yields higher probability/value for either response rate, profit, or ROME\n",
      "The response rate of sequential rate approach is 5.7611 % which is 0.0035 higher than independent rate approach.\n",
      "The profit of sequential rate approach is 336627.0214 which is 5109.3739 higher than independent rate approach.\n",
      "The ROME of sequential rate approach is 1.329 % which is 0.1413 higher than independent rate approach.\n"
     ]
    }
   ],
   "source": [
    "print(response_rate_iq > response_rate_sq)\n",
    "print(profit_iq > profit_sq)\n",
    "print(ROME_iq > ROME_sq)\n",
    "print('The suquential rate approach yields higher probability/value for either response rate, profit, or ROME')\n",
    "print('The response rate of sequential rate approach is', round(response_rate_sq * 100, 4), '% which is', round(response_rate_sq  - response_rate_iq , 4), 'higher than independent rate approach.')\n",
    "print('The profit of sequential rate approach is', round(profit_sq, 4), 'which is', round(profit_sq - profit_iq, 4), 'higher than independent rate approach.')\n",
    "print('The ROME of sequential rate approach is', round(ROME_sq, 4), '% which is', round(ROME_sq - ROME_iq, 4), 'higher than independent rate approach.')"
   ]
  },
  {
   "cell_type": "code",
   "execution_count": 28,
   "metadata": {},
   "outputs": [
    {
     "name": "stdout",
     "output_type": "stream",
     "text": [
      "In conclusion, although the sequential approach suggest a less sms sending amount, but its higher response rate yields a higher profit, thus has a higher return on the market expenditure\n"
     ]
    }
   ],
   "source": [
    "print(\"In conclusion, although the sequential approach suggest a less sms sending amount, but its higher response rate yields a higher profit, thus has a higher return on the market expenditure\")"
   ]
  },
  {
   "cell_type": "markdown",
   "metadata": {},
   "source": [
    "... provide you answer here ..."
   ]
  },
  {
   "cell_type": "markdown",
   "metadata": {},
   "source": [
    "### 11.\tThe answer to question 9 assumes a single breakeven response rate that applies across all cells. Redo your analysis for sequential RFM based on a breakeven response rate calculated for each RFM cell. What implications can you draw from the difference in predicted performance compared to question 9?\n",
    "\n",
    "> Note: You only need to calculate smsto_pcsq for this approach. You can use your perf_calc function to determine the performance implications without any adjustments\n",
    "\n",
    "<!-- > Note: To project the expected profits for the remaining customers not part of the sample you can use Tuango’s standard fee and the ordersize number you calculated for question 2. -->"
   ]
  },
  {
   "cell_type": "code",
   "execution_count": 29,
   "metadata": {},
   "outputs": [],
   "source": [
    "# calculate the average ordersize per sq code\n",
    "def response_rate(x, lev = 'yes'):\n",
    "    return np.sum(x == lev) / np.sum((x == \"yes\") | (x == \"no\"))\n",
    "\n",
    "avg_ordersize_sq = tuango[tuango['buyer'] == 'yes'].groupby([\"rfm_sq\"])[\"ordersize\"].apply(np.nanmean)\n",
    "tuango[\"avg_ordersize_sq\"] = tuango.merge(avg_ordersize_sq,on = \"rfm_sq\", how = 'left').iloc[: , -1]\n",
    "\n",
    "\n",
    "# calculate a breakeven value per sq code\n",
    "tuango[\"breakeven_pc\"] = cost / (tuango[\"avg_ordersize_sq\"] / 2) \n",
    "\n",
    "# calculate the smsto variable based on breakeven value per sq code\n",
    "# _pcsq stands for 'per cell sequential quintiles'\n",
    "\n",
    "tuango[\"smsto_pcsq\"] = tuango.groupby(\"rfm_sq\").buyer.transform(response_rate, lev = 'yes') >= tuango[\"breakeven_pc\"]\n",
    "#tuango[\"smsto_pcsq\"] = tuango[\"response_rate_sq\"] >= tuango[\"breakeven_pc\"]"
   ]
  },
  {
   "cell_type": "code",
   "execution_count": 30,
   "metadata": {},
   "outputs": [
    {
     "data": {
      "text/html": [
       "<div>\n",
       "<style scoped>\n",
       "    .dataframe tbody tr th:only-of-type {\n",
       "        vertical-align: middle;\n",
       "    }\n",
       "\n",
       "    .dataframe tbody tr th {\n",
       "        vertical-align: top;\n",
       "    }\n",
       "\n",
       "    .dataframe thead th {\n",
       "        text-align: right;\n",
       "    }\n",
       "</style>\n",
       "<table border=\"1\" class=\"dataframe\">\n",
       "  <thead>\n",
       "    <tr style=\"text-align: right;\">\n",
       "      <th></th>\n",
       "      <th>userid</th>\n",
       "      <th>recency</th>\n",
       "      <th>frequency</th>\n",
       "      <th>monetary</th>\n",
       "      <th>rfm_iq_pre</th>\n",
       "      <th>buyer</th>\n",
       "      <th>ordersize</th>\n",
       "      <th>platform</th>\n",
       "      <th>category</th>\n",
       "      <th>mobile_os</th>\n",
       "      <th>...</th>\n",
       "      <th>mon_iq</th>\n",
       "      <th>rfm_iq</th>\n",
       "      <th>smsto_iq</th>\n",
       "      <th>freq_sq</th>\n",
       "      <th>mon_sq</th>\n",
       "      <th>rfm_sq</th>\n",
       "      <th>smsto_sq</th>\n",
       "      <th>avg_ordersize_sq</th>\n",
       "      <th>breakeven_pc</th>\n",
       "      <th>smsto_pcsq</th>\n",
       "    </tr>\n",
       "  </thead>\n",
       "  <tbody>\n",
       "    <tr>\n",
       "      <th>0</th>\n",
       "      <td>U12617430</td>\n",
       "      <td>309</td>\n",
       "      <td>7</td>\n",
       "      <td>39.80</td>\n",
       "      <td>514</td>\n",
       "      <td>no</td>\n",
       "      <td>0.0</td>\n",
       "      <td>App</td>\n",
       "      <td>3</td>\n",
       "      <td>android</td>\n",
       "      <td>...</td>\n",
       "      <td>4</td>\n",
       "      <td>514</td>\n",
       "      <td>True</td>\n",
       "      <td>1</td>\n",
       "      <td>4</td>\n",
       "      <td>514</td>\n",
       "      <td>False</td>\n",
       "      <td>161.000000</td>\n",
       "      <td>0.031056</td>\n",
       "      <td>False</td>\n",
       "    </tr>\n",
       "    <tr>\n",
       "      <th>1</th>\n",
       "      <td>U63302737</td>\n",
       "      <td>297</td>\n",
       "      <td>8</td>\n",
       "      <td>39.80</td>\n",
       "      <td>514</td>\n",
       "      <td>no</td>\n",
       "      <td>0.0</td>\n",
       "      <td>Browser</td>\n",
       "      <td>3</td>\n",
       "      <td>android</td>\n",
       "      <td>...</td>\n",
       "      <td>4</td>\n",
       "      <td>514</td>\n",
       "      <td>True</td>\n",
       "      <td>1</td>\n",
       "      <td>4</td>\n",
       "      <td>514</td>\n",
       "      <td>False</td>\n",
       "      <td>161.000000</td>\n",
       "      <td>0.031056</td>\n",
       "      <td>False</td>\n",
       "    </tr>\n",
       "    <tr>\n",
       "      <th>2</th>\n",
       "      <td>U77095928</td>\n",
       "      <td>295</td>\n",
       "      <td>1</td>\n",
       "      <td>72.90</td>\n",
       "      <td>553</td>\n",
       "      <td>no</td>\n",
       "      <td>0.0</td>\n",
       "      <td>Browser</td>\n",
       "      <td>3</td>\n",
       "      <td>android</td>\n",
       "      <td>...</td>\n",
       "      <td>3</td>\n",
       "      <td>553</td>\n",
       "      <td>False</td>\n",
       "      <td>5</td>\n",
       "      <td>3</td>\n",
       "      <td>553</td>\n",
       "      <td>False</td>\n",
       "      <td>209.000000</td>\n",
       "      <td>0.023923</td>\n",
       "      <td>False</td>\n",
       "    </tr>\n",
       "    <tr>\n",
       "      <th>3</th>\n",
       "      <td>U43509181</td>\n",
       "      <td>277</td>\n",
       "      <td>1</td>\n",
       "      <td>40.00</td>\n",
       "      <td>554</td>\n",
       "      <td>no</td>\n",
       "      <td>0.0</td>\n",
       "      <td>Browser</td>\n",
       "      <td>3</td>\n",
       "      <td>android</td>\n",
       "      <td>...</td>\n",
       "      <td>4</td>\n",
       "      <td>554</td>\n",
       "      <td>False</td>\n",
       "      <td>5</td>\n",
       "      <td>4</td>\n",
       "      <td>554</td>\n",
       "      <td>False</td>\n",
       "      <td>NaN</td>\n",
       "      <td>NaN</td>\n",
       "      <td>False</td>\n",
       "    </tr>\n",
       "    <tr>\n",
       "      <th>4</th>\n",
       "      <td>U23195941</td>\n",
       "      <td>259</td>\n",
       "      <td>1</td>\n",
       "      <td>21.00</td>\n",
       "      <td>555</td>\n",
       "      <td>no</td>\n",
       "      <td>0.0</td>\n",
       "      <td>App</td>\n",
       "      <td>3</td>\n",
       "      <td>android</td>\n",
       "      <td>...</td>\n",
       "      <td>5</td>\n",
       "      <td>555</td>\n",
       "      <td>False</td>\n",
       "      <td>5</td>\n",
       "      <td>5</td>\n",
       "      <td>555</td>\n",
       "      <td>False</td>\n",
       "      <td>209.000000</td>\n",
       "      <td>0.023923</td>\n",
       "      <td>False</td>\n",
       "    </tr>\n",
       "    <tr>\n",
       "      <th>...</th>\n",
       "      <td>...</td>\n",
       "      <td>...</td>\n",
       "      <td>...</td>\n",
       "      <td>...</td>\n",
       "      <td>...</td>\n",
       "      <td>...</td>\n",
       "      <td>...</td>\n",
       "      <td>...</td>\n",
       "      <td>...</td>\n",
       "      <td>...</td>\n",
       "      <td>...</td>\n",
       "      <td>...</td>\n",
       "      <td>...</td>\n",
       "      <td>...</td>\n",
       "      <td>...</td>\n",
       "      <td>...</td>\n",
       "      <td>...</td>\n",
       "      <td>...</td>\n",
       "      <td>...</td>\n",
       "      <td>...</td>\n",
       "      <td>...</td>\n",
       "    </tr>\n",
       "    <tr>\n",
       "      <th>278775</th>\n",
       "      <td>U14081166</td>\n",
       "      <td>329</td>\n",
       "      <td>12</td>\n",
       "      <td>8.16</td>\n",
       "      <td>515</td>\n",
       "      <td>NaN</td>\n",
       "      <td>NaN</td>\n",
       "      <td>App</td>\n",
       "      <td>9</td>\n",
       "      <td>android</td>\n",
       "      <td>...</td>\n",
       "      <td>5</td>\n",
       "      <td>515</td>\n",
       "      <td>False</td>\n",
       "      <td>1</td>\n",
       "      <td>5</td>\n",
       "      <td>515</td>\n",
       "      <td>False</td>\n",
       "      <td>182.333333</td>\n",
       "      <td>0.027422</td>\n",
       "      <td>False</td>\n",
       "    </tr>\n",
       "    <tr>\n",
       "      <th>278776</th>\n",
       "      <td>U44222234</td>\n",
       "      <td>14</td>\n",
       "      <td>4</td>\n",
       "      <td>314.67</td>\n",
       "      <td>231</td>\n",
       "      <td>NaN</td>\n",
       "      <td>NaN</td>\n",
       "      <td>App</td>\n",
       "      <td>9</td>\n",
       "      <td>android</td>\n",
       "      <td>...</td>\n",
       "      <td>1</td>\n",
       "      <td>231</td>\n",
       "      <td>True</td>\n",
       "      <td>3</td>\n",
       "      <td>1</td>\n",
       "      <td>231</td>\n",
       "      <td>True</td>\n",
       "      <td>176.058824</td>\n",
       "      <td>0.028400</td>\n",
       "      <td>True</td>\n",
       "    </tr>\n",
       "    <tr>\n",
       "      <th>278777</th>\n",
       "      <td>U27441294</td>\n",
       "      <td>58</td>\n",
       "      <td>7</td>\n",
       "      <td>22.57</td>\n",
       "      <td>415</td>\n",
       "      <td>NaN</td>\n",
       "      <td>NaN</td>\n",
       "      <td>App</td>\n",
       "      <td>9</td>\n",
       "      <td>android</td>\n",
       "      <td>...</td>\n",
       "      <td>5</td>\n",
       "      <td>415</td>\n",
       "      <td>False</td>\n",
       "      <td>1</td>\n",
       "      <td>4</td>\n",
       "      <td>414</td>\n",
       "      <td>False</td>\n",
       "      <td>NaN</td>\n",
       "      <td>NaN</td>\n",
       "      <td>False</td>\n",
       "    </tr>\n",
       "    <tr>\n",
       "      <th>278778</th>\n",
       "      <td>U50898226</td>\n",
       "      <td>20</td>\n",
       "      <td>5</td>\n",
       "      <td>33.00</td>\n",
       "      <td>324</td>\n",
       "      <td>NaN</td>\n",
       "      <td>NaN</td>\n",
       "      <td>App</td>\n",
       "      <td>9</td>\n",
       "      <td>android</td>\n",
       "      <td>...</td>\n",
       "      <td>4</td>\n",
       "      <td>324</td>\n",
       "      <td>True</td>\n",
       "      <td>2</td>\n",
       "      <td>4</td>\n",
       "      <td>324</td>\n",
       "      <td>True</td>\n",
       "      <td>189.000000</td>\n",
       "      <td>0.026455</td>\n",
       "      <td>True</td>\n",
       "    </tr>\n",
       "    <tr>\n",
       "      <th>278779</th>\n",
       "      <td>U84790963</td>\n",
       "      <td>45</td>\n",
       "      <td>1</td>\n",
       "      <td>6.80</td>\n",
       "      <td>455</td>\n",
       "      <td>NaN</td>\n",
       "      <td>NaN</td>\n",
       "      <td>App</td>\n",
       "      <td>9</td>\n",
       "      <td>android</td>\n",
       "      <td>...</td>\n",
       "      <td>5</td>\n",
       "      <td>455</td>\n",
       "      <td>False</td>\n",
       "      <td>5</td>\n",
       "      <td>5</td>\n",
       "      <td>455</td>\n",
       "      <td>False</td>\n",
       "      <td>NaN</td>\n",
       "      <td>NaN</td>\n",
       "      <td>False</td>\n",
       "    </tr>\n",
       "  </tbody>\n",
       "</table>\n",
       "<p>278780 rows × 23 columns</p>\n",
       "</div>"
      ],
      "text/plain": [
       "           userid  recency  frequency  monetary rfm_iq_pre buyer  ordersize  \\\n",
       "0       U12617430      309          7     39.80        514    no        0.0   \n",
       "1       U63302737      297          8     39.80        514    no        0.0   \n",
       "2       U77095928      295          1     72.90        553    no        0.0   \n",
       "3       U43509181      277          1     40.00        554    no        0.0   \n",
       "4       U23195941      259          1     21.00        555    no        0.0   \n",
       "...           ...      ...        ...       ...        ...   ...        ...   \n",
       "278775  U14081166      329         12      8.16        515   NaN        NaN   \n",
       "278776  U44222234       14          4    314.67        231   NaN        NaN   \n",
       "278777  U27441294       58          7     22.57        415   NaN        NaN   \n",
       "278778  U50898226       20          5     33.00        324   NaN        NaN   \n",
       "278779  U84790963       45          1      6.80        455   NaN        NaN   \n",
       "\n",
       "       platform  category mobile_os  ...  mon_iq  rfm_iq  smsto_iq  freq_sq  \\\n",
       "0           App         3   android  ...       4     514      True        1   \n",
       "1       Browser         3   android  ...       4     514      True        1   \n",
       "2       Browser         3   android  ...       3     553     False        5   \n",
       "3       Browser         3   android  ...       4     554     False        5   \n",
       "4           App         3   android  ...       5     555     False        5   \n",
       "...         ...       ...       ...  ...     ...     ...       ...      ...   \n",
       "278775      App         9   android  ...       5     515     False        1   \n",
       "278776      App         9   android  ...       1     231      True        3   \n",
       "278777      App         9   android  ...       5     415     False        1   \n",
       "278778      App         9   android  ...       4     324      True        2   \n",
       "278779      App         9   android  ...       5     455     False        5   \n",
       "\n",
       "       mon_sq  rfm_sq  smsto_sq  avg_ordersize_sq breakeven_pc  smsto_pcsq  \n",
       "0           4     514     False        161.000000     0.031056       False  \n",
       "1           4     514     False        161.000000     0.031056       False  \n",
       "2           3     553     False        209.000000     0.023923       False  \n",
       "3           4     554     False               NaN          NaN       False  \n",
       "4           5     555     False        209.000000     0.023923       False  \n",
       "...       ...     ...       ...               ...          ...         ...  \n",
       "278775      5     515     False        182.333333     0.027422       False  \n",
       "278776      1     231      True        176.058824     0.028400        True  \n",
       "278777      4     414     False               NaN          NaN       False  \n",
       "278778      4     324      True        189.000000     0.026455        True  \n",
       "278779      5     455     False               NaN          NaN       False  \n",
       "\n",
       "[278780 rows x 23 columns]"
      ]
     },
     "execution_count": 30,
     "metadata": {},
     "output_type": "execute_result"
    }
   ],
   "source": [
    "tuango"
   ]
  },
  {
   "cell_type": "code",
   "execution_count": 31,
   "metadata": {},
   "outputs": [
    {
     "data": {
      "text/plain": [
       "(110617,\n",
       " 276542.5,\n",
       " 6052.729815175097,\n",
       " 0.054717898832684825,\n",
       " 611715.3876805932,\n",
       " 1.2120122139656406,\n",
       " 335172.8876805932)"
      ]
     },
     "execution_count": 31,
     "metadata": {},
     "output_type": "execute_result"
    }
   ],
   "source": [
    "# calculate performance for break-even-per-cell sequential RFM\n",
    "# note that your perf_calc function should return values for each of the variables\n",
    "# listed below\n",
    "# all variables should be numeric (integer or float) and of length 1\n",
    "# _pcsq stands for 'per cell sequential quintiles'\n",
    "\n",
    "nr_sms_pcsq, sms_cost_pcsq, nr_responses_pcsq, response_rate_pcsq, revenue_pcsq, ROME_pcsq, profit_pcsq = perf_calc(\n",
    "    smsto=\"smsto_pcsq\", intro=\"Based on sequential RFM with breakeven per cell\"\n",
    ")\n",
    "perf_calc(\n",
    "    smsto=\"smsto_pcsq\", intro=\"Based on sequential RFM with breakeven per cell\"\n",
    ")"
   ]
  },
  {
   "cell_type": "markdown",
   "metadata": {},
   "source": [
    "#### The overall projected profit is less than sequntial method but still slightly more than independent method due to its more stablized seperation and more response rate."
   ]
  },
  {
   "cell_type": "markdown",
   "metadata": {},
   "source": [
    "### 12.\tThe answer to question 9 does not account for the fact that the response rate for each cell is an estimated quantity (i.e., it has a standard error). Redo your analysis for both independent RFM, adjusting for the standard error of the response rate in each cell"
   ]
  },
  {
   "cell_type": "code",
   "execution_count": 63,
   "metadata": {},
   "outputs": [],
   "source": [
    "# calculate the performance for lower bound with sequential quintiles\n",
    "# note that your perf_calc function should return values for each of the variables\n",
    "# listed below\n",
    "# all variables should be numeric (integer or float) and of length 1\n",
    "# _lbsq stands for 'lower bound with sequential quintiles'\n",
    "def prop_lb(x): \n",
    "    return np.nanmean(x) - 1.64 * rsm.seprop(x)\n",
    "\n",
    "tuango[\"buyer_yes\"] = tuango[\"buyer\"].apply(lambda x: 1 if x == \"yes\" else 0) \n",
    "test_df =  tuango[[\"rfm_sq\", 'buyer_yes']]\n",
    "test = test_df.groupby([\"rfm_sq\"]).transform(prop_lb)\n",
    "tuango[\"smsto_lbsq\"] = test > breakeven"
   ]
  },
  {
   "cell_type": "code",
   "execution_count": 64,
   "metadata": {},
   "outputs": [
    {
     "data": {
      "text/html": [
       "<div>\n",
       "<style scoped>\n",
       "    .dataframe tbody tr th:only-of-type {\n",
       "        vertical-align: middle;\n",
       "    }\n",
       "\n",
       "    .dataframe tbody tr th {\n",
       "        vertical-align: top;\n",
       "    }\n",
       "\n",
       "    .dataframe thead th {\n",
       "        text-align: right;\n",
       "    }\n",
       "</style>\n",
       "<table border=\"1\" class=\"dataframe\">\n",
       "  <thead>\n",
       "    <tr style=\"text-align: right;\">\n",
       "      <th></th>\n",
       "      <th>userid</th>\n",
       "      <th>recency</th>\n",
       "      <th>frequency</th>\n",
       "      <th>monetary</th>\n",
       "      <th>rfm_iq_pre</th>\n",
       "      <th>buyer</th>\n",
       "      <th>ordersize</th>\n",
       "      <th>platform</th>\n",
       "      <th>category</th>\n",
       "      <th>mobile_os</th>\n",
       "      <th>...</th>\n",
       "      <th>smsto_iq</th>\n",
       "      <th>freq_sq</th>\n",
       "      <th>mon_sq</th>\n",
       "      <th>rfm_sq</th>\n",
       "      <th>smsto_sq</th>\n",
       "      <th>avg_ordersize_sq</th>\n",
       "      <th>breakeven_pc</th>\n",
       "      <th>smsto_pcsq</th>\n",
       "      <th>buyer_yes</th>\n",
       "      <th>smsto_lbsq</th>\n",
       "    </tr>\n",
       "  </thead>\n",
       "  <tbody>\n",
       "    <tr>\n",
       "      <th>0</th>\n",
       "      <td>U12617430</td>\n",
       "      <td>309</td>\n",
       "      <td>7</td>\n",
       "      <td>39.80</td>\n",
       "      <td>514</td>\n",
       "      <td>no</td>\n",
       "      <td>0.0</td>\n",
       "      <td>App</td>\n",
       "      <td>3</td>\n",
       "      <td>android</td>\n",
       "      <td>...</td>\n",
       "      <td>True</td>\n",
       "      <td>1</td>\n",
       "      <td>4</td>\n",
       "      <td>514</td>\n",
       "      <td>False</td>\n",
       "      <td>161.000000</td>\n",
       "      <td>0.031056</td>\n",
       "      <td>False</td>\n",
       "      <td>0</td>\n",
       "      <td>False</td>\n",
       "    </tr>\n",
       "    <tr>\n",
       "      <th>1</th>\n",
       "      <td>U63302737</td>\n",
       "      <td>297</td>\n",
       "      <td>8</td>\n",
       "      <td>39.80</td>\n",
       "      <td>514</td>\n",
       "      <td>no</td>\n",
       "      <td>0.0</td>\n",
       "      <td>Browser</td>\n",
       "      <td>3</td>\n",
       "      <td>android</td>\n",
       "      <td>...</td>\n",
       "      <td>True</td>\n",
       "      <td>1</td>\n",
       "      <td>4</td>\n",
       "      <td>514</td>\n",
       "      <td>False</td>\n",
       "      <td>161.000000</td>\n",
       "      <td>0.031056</td>\n",
       "      <td>False</td>\n",
       "      <td>0</td>\n",
       "      <td>False</td>\n",
       "    </tr>\n",
       "    <tr>\n",
       "      <th>2</th>\n",
       "      <td>U77095928</td>\n",
       "      <td>295</td>\n",
       "      <td>1</td>\n",
       "      <td>72.90</td>\n",
       "      <td>553</td>\n",
       "      <td>no</td>\n",
       "      <td>0.0</td>\n",
       "      <td>Browser</td>\n",
       "      <td>3</td>\n",
       "      <td>android</td>\n",
       "      <td>...</td>\n",
       "      <td>False</td>\n",
       "      <td>5</td>\n",
       "      <td>3</td>\n",
       "      <td>553</td>\n",
       "      <td>False</td>\n",
       "      <td>209.000000</td>\n",
       "      <td>0.023923</td>\n",
       "      <td>False</td>\n",
       "      <td>0</td>\n",
       "      <td>False</td>\n",
       "    </tr>\n",
       "    <tr>\n",
       "      <th>3</th>\n",
       "      <td>U43509181</td>\n",
       "      <td>277</td>\n",
       "      <td>1</td>\n",
       "      <td>40.00</td>\n",
       "      <td>554</td>\n",
       "      <td>no</td>\n",
       "      <td>0.0</td>\n",
       "      <td>Browser</td>\n",
       "      <td>3</td>\n",
       "      <td>android</td>\n",
       "      <td>...</td>\n",
       "      <td>False</td>\n",
       "      <td>5</td>\n",
       "      <td>4</td>\n",
       "      <td>554</td>\n",
       "      <td>False</td>\n",
       "      <td>NaN</td>\n",
       "      <td>NaN</td>\n",
       "      <td>False</td>\n",
       "      <td>0</td>\n",
       "      <td>False</td>\n",
       "    </tr>\n",
       "    <tr>\n",
       "      <th>4</th>\n",
       "      <td>U23195941</td>\n",
       "      <td>259</td>\n",
       "      <td>1</td>\n",
       "      <td>21.00</td>\n",
       "      <td>555</td>\n",
       "      <td>no</td>\n",
       "      <td>0.0</td>\n",
       "      <td>App</td>\n",
       "      <td>3</td>\n",
       "      <td>android</td>\n",
       "      <td>...</td>\n",
       "      <td>False</td>\n",
       "      <td>5</td>\n",
       "      <td>5</td>\n",
       "      <td>555</td>\n",
       "      <td>False</td>\n",
       "      <td>209.000000</td>\n",
       "      <td>0.023923</td>\n",
       "      <td>False</td>\n",
       "      <td>0</td>\n",
       "      <td>False</td>\n",
       "    </tr>\n",
       "    <tr>\n",
       "      <th>...</th>\n",
       "      <td>...</td>\n",
       "      <td>...</td>\n",
       "      <td>...</td>\n",
       "      <td>...</td>\n",
       "      <td>...</td>\n",
       "      <td>...</td>\n",
       "      <td>...</td>\n",
       "      <td>...</td>\n",
       "      <td>...</td>\n",
       "      <td>...</td>\n",
       "      <td>...</td>\n",
       "      <td>...</td>\n",
       "      <td>...</td>\n",
       "      <td>...</td>\n",
       "      <td>...</td>\n",
       "      <td>...</td>\n",
       "      <td>...</td>\n",
       "      <td>...</td>\n",
       "      <td>...</td>\n",
       "      <td>...</td>\n",
       "      <td>...</td>\n",
       "    </tr>\n",
       "    <tr>\n",
       "      <th>278775</th>\n",
       "      <td>U14081166</td>\n",
       "      <td>329</td>\n",
       "      <td>12</td>\n",
       "      <td>8.16</td>\n",
       "      <td>515</td>\n",
       "      <td>NaN</td>\n",
       "      <td>NaN</td>\n",
       "      <td>App</td>\n",
       "      <td>9</td>\n",
       "      <td>android</td>\n",
       "      <td>...</td>\n",
       "      <td>False</td>\n",
       "      <td>1</td>\n",
       "      <td>5</td>\n",
       "      <td>515</td>\n",
       "      <td>False</td>\n",
       "      <td>182.333333</td>\n",
       "      <td>0.027422</td>\n",
       "      <td>False</td>\n",
       "      <td>NaN</td>\n",
       "      <td>False</td>\n",
       "    </tr>\n",
       "    <tr>\n",
       "      <th>278776</th>\n",
       "      <td>U44222234</td>\n",
       "      <td>14</td>\n",
       "      <td>4</td>\n",
       "      <td>314.67</td>\n",
       "      <td>231</td>\n",
       "      <td>NaN</td>\n",
       "      <td>NaN</td>\n",
       "      <td>App</td>\n",
       "      <td>9</td>\n",
       "      <td>android</td>\n",
       "      <td>...</td>\n",
       "      <td>True</td>\n",
       "      <td>3</td>\n",
       "      <td>1</td>\n",
       "      <td>231</td>\n",
       "      <td>True</td>\n",
       "      <td>176.058824</td>\n",
       "      <td>0.028400</td>\n",
       "      <td>True</td>\n",
       "      <td>NaN</td>\n",
       "      <td>True</td>\n",
       "    </tr>\n",
       "    <tr>\n",
       "      <th>278777</th>\n",
       "      <td>U27441294</td>\n",
       "      <td>58</td>\n",
       "      <td>7</td>\n",
       "      <td>22.57</td>\n",
       "      <td>415</td>\n",
       "      <td>NaN</td>\n",
       "      <td>NaN</td>\n",
       "      <td>App</td>\n",
       "      <td>9</td>\n",
       "      <td>android</td>\n",
       "      <td>...</td>\n",
       "      <td>False</td>\n",
       "      <td>1</td>\n",
       "      <td>4</td>\n",
       "      <td>414</td>\n",
       "      <td>False</td>\n",
       "      <td>NaN</td>\n",
       "      <td>NaN</td>\n",
       "      <td>False</td>\n",
       "      <td>NaN</td>\n",
       "      <td>False</td>\n",
       "    </tr>\n",
       "    <tr>\n",
       "      <th>278778</th>\n",
       "      <td>U50898226</td>\n",
       "      <td>20</td>\n",
       "      <td>5</td>\n",
       "      <td>33.00</td>\n",
       "      <td>324</td>\n",
       "      <td>NaN</td>\n",
       "      <td>NaN</td>\n",
       "      <td>App</td>\n",
       "      <td>9</td>\n",
       "      <td>android</td>\n",
       "      <td>...</td>\n",
       "      <td>True</td>\n",
       "      <td>2</td>\n",
       "      <td>4</td>\n",
       "      <td>324</td>\n",
       "      <td>True</td>\n",
       "      <td>189.000000</td>\n",
       "      <td>0.026455</td>\n",
       "      <td>True</td>\n",
       "      <td>NaN</td>\n",
       "      <td>False</td>\n",
       "    </tr>\n",
       "    <tr>\n",
       "      <th>278779</th>\n",
       "      <td>U84790963</td>\n",
       "      <td>45</td>\n",
       "      <td>1</td>\n",
       "      <td>6.80</td>\n",
       "      <td>455</td>\n",
       "      <td>NaN</td>\n",
       "      <td>NaN</td>\n",
       "      <td>App</td>\n",
       "      <td>9</td>\n",
       "      <td>android</td>\n",
       "      <td>...</td>\n",
       "      <td>False</td>\n",
       "      <td>5</td>\n",
       "      <td>5</td>\n",
       "      <td>455</td>\n",
       "      <td>False</td>\n",
       "      <td>NaN</td>\n",
       "      <td>NaN</td>\n",
       "      <td>False</td>\n",
       "      <td>NaN</td>\n",
       "      <td>False</td>\n",
       "    </tr>\n",
       "  </tbody>\n",
       "</table>\n",
       "<p>278780 rows × 25 columns</p>\n",
       "</div>"
      ],
      "text/plain": [
       "           userid  recency  frequency  monetary rfm_iq_pre buyer  ordersize  \\\n",
       "0       U12617430      309          7     39.80        514    no        0.0   \n",
       "1       U63302737      297          8     39.80        514    no        0.0   \n",
       "2       U77095928      295          1     72.90        553    no        0.0   \n",
       "3       U43509181      277          1     40.00        554    no        0.0   \n",
       "4       U23195941      259          1     21.00        555    no        0.0   \n",
       "...           ...      ...        ...       ...        ...   ...        ...   \n",
       "278775  U14081166      329         12      8.16        515   NaN        NaN   \n",
       "278776  U44222234       14          4    314.67        231   NaN        NaN   \n",
       "278777  U27441294       58          7     22.57        415   NaN        NaN   \n",
       "278778  U50898226       20          5     33.00        324   NaN        NaN   \n",
       "278779  U84790963       45          1      6.80        455   NaN        NaN   \n",
       "\n",
       "       platform  category mobile_os  ...  smsto_iq  freq_sq  mon_sq  rfm_sq  \\\n",
       "0           App         3   android  ...      True        1       4     514   \n",
       "1       Browser         3   android  ...      True        1       4     514   \n",
       "2       Browser         3   android  ...     False        5       3     553   \n",
       "3       Browser         3   android  ...     False        5       4     554   \n",
       "4           App         3   android  ...     False        5       5     555   \n",
       "...         ...       ...       ...  ...       ...      ...     ...     ...   \n",
       "278775      App         9   android  ...     False        1       5     515   \n",
       "278776      App         9   android  ...      True        3       1     231   \n",
       "278777      App         9   android  ...     False        1       4     414   \n",
       "278778      App         9   android  ...      True        2       4     324   \n",
       "278779      App         9   android  ...     False        5       5     455   \n",
       "\n",
       "       smsto_sq  avg_ordersize_sq  breakeven_pc  smsto_pcsq buyer_yes  \\\n",
       "0         False        161.000000      0.031056       False         0   \n",
       "1         False        161.000000      0.031056       False         0   \n",
       "2         False        209.000000      0.023923       False         0   \n",
       "3         False               NaN           NaN       False         0   \n",
       "4         False        209.000000      0.023923       False         0   \n",
       "...         ...               ...           ...         ...       ...   \n",
       "278775    False        182.333333      0.027422       False       NaN   \n",
       "278776     True        176.058824      0.028400        True       NaN   \n",
       "278777    False               NaN           NaN       False       NaN   \n",
       "278778     True        189.000000      0.026455        True       NaN   \n",
       "278779    False               NaN           NaN       False       NaN   \n",
       "\n",
       "        smsto_lbsq  \n",
       "0            False  \n",
       "1            False  \n",
       "2            False  \n",
       "3            False  \n",
       "4            False  \n",
       "...            ...  \n",
       "278775       False  \n",
       "278776        True  \n",
       "278777       False  \n",
       "278778       False  \n",
       "278779       False  \n",
       "\n",
       "[278780 rows x 25 columns]"
      ]
     },
     "execution_count": 64,
     "metadata": {},
     "output_type": "execute_result"
    }
   ],
   "source": [
    "tuango"
   ]
  },
  {
   "cell_type": "code",
   "execution_count": 40,
   "metadata": {},
   "outputs": [
    {
     "data": {
      "text/plain": [
       "(54974,\n",
       " 137435.0,\n",
       " 4083.4246619970677,\n",
       " 0.07427919856654178,\n",
       " 412688.7828224943,\n",
       " 2.0027924678756817,\n",
       " 275253.7828224943)"
      ]
     },
     "execution_count": 40,
     "metadata": {},
     "output_type": "execute_result"
    }
   ],
   "source": [
    "nr_sms_lbsq, sms_cost_lbsq, nr_responses_lbsq, response_rate_lbsq, revenue_lbsq, ROME_lbsq, profit_lbsq = perf_calc(\n",
    "    smsto=\"smsto_lbsq\",\n",
    "    intro=\"Based on sequential RFM adjusted for response rate prediction accuracy\",\n",
    ")\n",
    "\n",
    "perf_calc(\n",
    "    smsto=\"smsto_lbsq\",\n",
    "    intro=\"Based on sequential RFM adjusted for response rate prediction accuracy\",\n",
    ")"
   ]
  },
  {
   "cell_type": "code",
   "execution_count": 36,
   "metadata": {},
   "outputs": [],
   "source": [
    "# insert calculation code here - you do not need to do this 'per cell'\n",
    "# _lbiq stands for 'lower bound independent quintiles'\n",
    "\n",
    "tuango[\"smsto_lbiq\"] = tuango.groupby([\"rfm_iq\"]).buyer_yes.transform(prop_lb) > breakeven"
   ]
  },
  {
   "cell_type": "code",
   "execution_count": 37,
   "metadata": {},
   "outputs": [
    {
     "data": {
      "text/plain": [
       "(54445,\n",
       " 136112.5,\n",
       " 4116.178606800924,\n",
       " 0.07560250907890392,\n",
       " 415999.0399553215,\n",
       " 2.05628829060756,\n",
       " 279886.5399553215)"
      ]
     },
     "execution_count": 37,
     "metadata": {},
     "output_type": "execute_result"
    }
   ],
   "source": [
    "# calculate the performance for lower bound with independent quintiles\n",
    "# note that your perf_calc function should return values for each of the variables\n",
    "# listed below\n",
    "# all variables should be numeric (integer or float) and of length 1\n",
    "# _lbiq stands for 'lower bound with independent quintiles'\n",
    "\n",
    "nr_sms_lbiq, sms_cost_lbiq, nr_responses_lbiq, response_rate_lbiq, revenue_lbiq, ROME_lbiq, profit_lbiq = perf_calc(\n",
    "    smsto=\"smsto_lbiq\",\n",
    "    intro=\"Based on independent RFM adjusted for response rate prediction accuracy\",\n",
    ")\n",
    "\n",
    "perf_calc(\n",
    "    smsto=\"smsto_lbiq\",\n",
    "    intro=\"Based on independent RFM adjusted for response rate prediction accuracy\",\n",
    ")"
   ]
  },
  {
   "cell_type": "markdown",
   "metadata": {},
   "source": [
    "### 13.\tCreate a bar chart with profit information and a bar chart with ROME numbers for the analyses conducted in questions 9, 11, and 12"
   ]
  },
  {
   "cell_type": "code",
   "execution_count": 38,
   "metadata": {},
   "outputs": [],
   "source": [
    "# the below DataFrame should collect all performance information you created above\n",
    "plot_data = pd.DataFrame(\n",
    "    {\n",
    "        \"name\": [\n",
    "            \"No targeting\",\n",
    "            \"Indep. RFM\",\n",
    "            \"Seq. RFM\",\n",
    "            \"Seq. PC RFM\",\n",
    "            \"Indep. LB RFM\",\n",
    "        ],\n",
    "        \"Profit\": [\n",
    "            profit_nt,\n",
    "            profit_iq,\n",
    "            profit_sq,\n",
    "            profit_pcsq,\n",
    "            profit_lbiq,\n",
    "        ],\n",
    "        \"ROME\": [ROME_nt, ROME_iq, ROME_sq, ROME_pcsq, ROME_lbiq],\n",
    "    }\n",
    ")"
   ]
  },
  {
   "cell_type": "code",
   "execution_count": 39,
   "metadata": {},
   "outputs": [
    {
     "data": {
      "text/html": [
       "<div>\n",
       "<style scoped>\n",
       "    .dataframe tbody tr th:only-of-type {\n",
       "        vertical-align: middle;\n",
       "    }\n",
       "\n",
       "    .dataframe tbody tr th {\n",
       "        vertical-align: top;\n",
       "    }\n",
       "\n",
       "    .dataframe thead th {\n",
       "        text-align: right;\n",
       "    }\n",
       "</style>\n",
       "<table border=\"1\" class=\"dataframe\">\n",
       "  <thead>\n",
       "    <tr style=\"text-align: right;\">\n",
       "      <th></th>\n",
       "      <th>name</th>\n",
       "      <th>Profit</th>\n",
       "      <th>ROME</th>\n",
       "    </tr>\n",
       "  </thead>\n",
       "  <tbody>\n",
       "    <tr>\n",
       "      <th>0</th>\n",
       "      <td>No targeting</td>\n",
       "      <td>128605.500000</td>\n",
       "      <td>0.205029</td>\n",
       "    </tr>\n",
       "    <tr>\n",
       "      <th>1</th>\n",
       "      <td>Indep. RFM</td>\n",
       "      <td>331517.647414</td>\n",
       "      <td>1.187639</td>\n",
       "    </tr>\n",
       "    <tr>\n",
       "      <th>2</th>\n",
       "      <td>Seq. RFM</td>\n",
       "      <td>336627.021362</td>\n",
       "      <td>1.328953</td>\n",
       "    </tr>\n",
       "    <tr>\n",
       "      <th>3</th>\n",
       "      <td>Seq. PC RFM</td>\n",
       "      <td>335172.887681</td>\n",
       "      <td>1.212012</td>\n",
       "    </tr>\n",
       "    <tr>\n",
       "      <th>4</th>\n",
       "      <td>Indep. LB RFM</td>\n",
       "      <td>279886.539955</td>\n",
       "      <td>2.056288</td>\n",
       "    </tr>\n",
       "  </tbody>\n",
       "</table>\n",
       "</div>"
      ],
      "text/plain": [
       "            name         Profit      ROME\n",
       "0   No targeting  128605.500000  0.205029\n",
       "1     Indep. RFM  331517.647414  1.187639\n",
       "2       Seq. RFM  336627.021362  1.328953\n",
       "3    Seq. PC RFM  335172.887681  1.212012\n",
       "4  Indep. LB RFM  279886.539955  2.056288"
      ]
     },
     "execution_count": 39,
     "metadata": {},
     "output_type": "execute_result"
    }
   ],
   "source": [
    "plot_data"
   ]
  },
  {
   "cell_type": "code",
   "execution_count": 245,
   "metadata": {},
   "outputs": [
    {
     "data": {
      "image/png": "[encoded data removed]",
      "text/plain": [
       "<Figure size 1800x1080 with 1 Axes>"
      ]
     },
     "metadata": {},
     "output_type": "display_data"
    }
   ],
   "source": [
    "# insert code for the profit plot based on the 'plot_data' DataFrame\n",
    "fig = plot_data.plot.bar('name', 'Profit')"
   ]
  },
  {
   "cell_type": "code",
   "execution_count": 247,
   "metadata": {},
   "outputs": [
    {
     "data": {
      "image/png": "[encoded data removed]",
      "text/plain": [
       "<Figure size 1800x1080 with 1 Axes>"
      ]
     },
     "metadata": {},
     "output_type": "display_data"
    }
   ],
   "source": [
    "# insert code for the ROME plot based on the 'plot_data' DataFrame\n",
    "fig = plot_data.plot.bar('name', 'ROME')"
   ]
  },
  {
   "cell_type": "markdown",
   "metadata": {},
   "source": [
    "### Question 14\n",
    "\n",
    "Make a copy of the current notebook `tuango-pre.ipynb` and name the copy `tuango-post.ipynb`. You also have access to a dataset with the results from the SMS roll-out (`tuango_post.pkl`). Tuango actually contacted all 250,902 customers. The data has a \"training\" variable (training = 1 for the data used in the test, training = 0 for the remaining customers). You can use this variable to help evaluate the actual performance for each of the different RFM approaches. Re-create the plot in question 13 based on this new dataset. \n",
    "\n",
    "Instead of using the `tuango_pre.pkl` data, use `tuango_post.pkl`. You should be able to re-use most of your code and text. Create a new function `perf_calc_actual` that calculates the actual performance for each targeting approach on the 'roll out' sample (i.e., training == 0). Also, keep your `perf_calc` and use it to check that this still calculates the same values you were seeing before based on the `tuango-pre.pkl` data. The `perf_calc_actual` function will be similar to `perf_calc` but you will need to make some changes to determine the actual outcomes. Also make sure to check that your `rfm_iq` variable is the same as `rfm_iq_pre` in the `tuango_post.pkl` dataset.\n",
    "\n",
    "> Hint: It is important that you do NOT use any information about buyers that were in the 'roll out' sample (i.e., training == 0) when calculating the break-even response rate etc. for targeting. "
   ]
  },
  {
   "cell_type": "code",
   "execution_count": null,
   "metadata": {},
   "outputs": [],
   "source": [
    " "
   ]
  }
 ],
 "metadata": {
  "kernelspec": {
   "display_name": "Python 3",
   "language": "python",
   "name": "python3"
  },
  "language_info": {
   "codemirror_mode": {
    "name": "ipython",
    "version": 3
   },
   "file_extension": ".py",
   "mimetype": "text/x-python",
   "name": "python",
   "nbconvert_exporter": "python",
   "pygments_lexer": "ipython3",
   "version": "3.8.5"
  }
 },
 "nbformat": 4,
 "nbformat_minor": 4
}
